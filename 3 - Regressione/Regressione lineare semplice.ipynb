{
  "nbformat": 4,
  "nbformat_minor": 0,
  "metadata": {
    "colab": {
      "name": "Regressione lineare semplice.ipynb",
      "version": "0.3.2",
      "provenance": []
    },
    "kernelspec": {
      "display_name": "Python 3",
      "language": "python",
      "name": "python3"
    }
  },
  "cells": [
    {
      "metadata": {
        "id": "78BB7dePF94-",
        "colab_type": "text"
      },
      "cell_type": "markdown",
      "source": [
        "# Regressione lineare semplice con scikit-learn\n",
        "In questo Notebook eseguiremo la nostra prima regressione lineare semplice utilizzando il Boston Housing Dataset per predirre il valore di abitazioni nella zona di Boston.<br>\n",
        "Cominciamo importando le librerie necessarie."
      ]
    },
    {
      "metadata": {
        "id": "gUh0dxnCF95A",
        "colab_type": "code",
        "colab": {}
      },
      "cell_type": "code",
      "source": [
        "import pandas as pd\n",
        "import numpy as np"
      ],
      "execution_count": 0,
      "outputs": []
    },
    {
      "metadata": {
        "id": "_ZYR755wF95E",
        "colab_type": "text"
      },
      "cell_type": "markdown",
      "source": [
        "Importiamo il dataset direttamente dalla repository ufficiale dell'UCI all'interno di un dataset.<br>\n",
        "Trattandosi di una regressione lineare semplice utilizzeremo soltanto la proprietà collegata al numero di stanze (RM - colonna 5) per predirre il valore medio (MEDV - colonna 13). Le colonne del dataset sono divise da un numero variabile di spazi, in questi casi dobbiamo usare come separatore <span style=\"font-family: Monaco\">\\s+</span>."
      ]
    },
    {
      "metadata": {
        "id": "TGDEUv5tF95F",
        "colab_type": "code",
        "colab": {},
        "outputId": "fa7a45bd-f978-4408-c432-b0c604717e15"
      },
      "cell_type": "code",
      "source": [
        "boston = pd.read_csv(\"https://archive.ics.uci.edu/ml/machine-learning-databases/housing/housing.data\", sep='\\s+', usecols=[5,13], names=[\"RM\", \"MEDV\"])\n",
        "boston.head()"
      ],
      "execution_count": 0,
      "outputs": [
        {
          "output_type": "execute_result",
          "data": {
            "text/html": [
              "<div>\n",
              "<style scoped>\n",
              "    .dataframe tbody tr th:only-of-type {\n",
              "        vertical-align: middle;\n",
              "    }\n",
              "\n",
              "    .dataframe tbody tr th {\n",
              "        vertical-align: top;\n",
              "    }\n",
              "\n",
              "    .dataframe thead th {\n",
              "        text-align: right;\n",
              "    }\n",
              "</style>\n",
              "<table border=\"1\" class=\"dataframe\">\n",
              "  <thead>\n",
              "    <tr style=\"text-align: right;\">\n",
              "      <th></th>\n",
              "      <th>RM</th>\n",
              "      <th>MEDV</th>\n",
              "    </tr>\n",
              "  </thead>\n",
              "  <tbody>\n",
              "    <tr>\n",
              "      <th>0</th>\n",
              "      <td>6.575</td>\n",
              "      <td>24.0</td>\n",
              "    </tr>\n",
              "    <tr>\n",
              "      <th>1</th>\n",
              "      <td>6.421</td>\n",
              "      <td>21.6</td>\n",
              "    </tr>\n",
              "    <tr>\n",
              "      <th>2</th>\n",
              "      <td>7.185</td>\n",
              "      <td>34.7</td>\n",
              "    </tr>\n",
              "    <tr>\n",
              "      <th>3</th>\n",
              "      <td>6.998</td>\n",
              "      <td>33.4</td>\n",
              "    </tr>\n",
              "    <tr>\n",
              "      <th>4</th>\n",
              "      <td>7.147</td>\n",
              "      <td>36.2</td>\n",
              "    </tr>\n",
              "  </tbody>\n",
              "</table>\n",
              "</div>"
            ],
            "text/plain": [
              "      RM  MEDV\n",
              "0  6.575  24.0\n",
              "1  6.421  21.6\n",
              "2  7.185  34.7\n",
              "3  6.998  33.4\n",
              "4  7.147  36.2"
            ]
          },
          "metadata": {
            "tags": []
          },
          "execution_count": 4
        }
      ]
    },
    {
      "metadata": {
        "id": "1VpUqR21F95N",
        "colab_type": "text"
      },
      "cell_type": "markdown",
      "source": [
        "Creiamo i nostri array numpy per le features X e per il target Y, dopodichè usiamo la funzione <span style=\"font-family: Monaco\">train_test_split</span> di scikit-learn per creare il *train set* e il *test set*."
      ]
    },
    {
      "metadata": {
        "id": "vt9iK7IbF95O",
        "colab_type": "code",
        "colab": {}
      },
      "cell_type": "code",
      "source": [
        "X = boston.drop(\"MEDV\", axis=1).values\n",
        "Y = boston[\"MEDV\"].values\n",
        "\n",
        "from sklearn.model_selection import train_test_split\n",
        "\n",
        "X_train, X_test, Y_train, Y_test = train_test_split(X,Y, test_size=0.3)"
      ],
      "execution_count": 0,
      "outputs": []
    },
    {
      "metadata": {
        "id": "juihrALeF95R",
        "colab_type": "text"
      },
      "cell_type": "markdown",
      "source": [
        "Adesso che abbiamo i nostri set di dati sotto forma di array numpy possiamo implementare la regressione lineare sul *train set* ed effettuare la predizione sul *test set*"
      ]
    },
    {
      "metadata": {
        "id": "2dmoueXBF95S",
        "colab_type": "code",
        "colab": {}
      },
      "cell_type": "code",
      "source": [
        "from sklearn.linear_model import LinearRegression\n",
        "\n",
        "ll = LinearRegression()\n",
        "ll.fit(X_train, Y_train)\n",
        "Y_pred = ll.predict(X_test)"
      ],
      "execution_count": 0,
      "outputs": []
    },
    {
      "metadata": {
        "id": "La-v58aKF95V",
        "colab_type": "text"
      },
      "cell_type": "markdown",
      "source": [
        "Utilizziamo la predizione del modello per calcolare l'errore utilizzando l'errore quadratico medio (MSE - Mean Squared Error).<br>\n",
        "Esso consiste nella media della somma degli errori al quadrato.\n",
        "$$MSE = \\frac{1}{N}\\sum_{i=1}^{N}(Y_i-\\hat{Y}_i)^2$$\n",
        "dove $\\hat{Y}$ corrisponde alla predizione del modello.<br>\n",
        "**NOTA BENE** L'MSE corrisponde alla somma dei quadrati residui (RSS - Residual Sum of Squares) di cui viene calcolato il valore medio."
      ]
    },
    {
      "metadata": {
        "id": "x0sinw_eF95W",
        "colab_type": "code",
        "colab": {},
        "outputId": "6f240e87-fc88-4c41-d689-04be332448dd"
      },
      "cell_type": "code",
      "source": [
        "from sklearn.metrics import mean_squared_error\n",
        "\n",
        "mean_squared_error(Y_test, Y_pred)"
      ],
      "execution_count": 0,
      "outputs": [
        {
          "output_type": "execute_result",
          "data": {
            "text/plain": [
              "42.541989804102585"
            ]
          },
          "metadata": {
            "tags": []
          },
          "execution_count": 7
        }
      ]
    },
    {
      "metadata": {
        "id": "bW9XWWopF95b",
        "colab_type": "text"
      },
      "cell_type": "markdown",
      "source": [
        "Introduciamo un ulteriore metrica per valutare il nostro modello: **il coefficente di determinazione (R^2)**.<br>\n",
        "$$ R^2 = 1-\\frac{RSS}{SST}$$\n",
        "dove $RSS$ è la somma dei quadrati residui:\n",
        "$$RSS = \\sum_{i=1}^{N}(Y_i-\\hat{Y}_i)^2$$\n",
        "ed SST è la somma dei quadrati totali:\n",
        "$$SST = \\sum_{i=1}^{N}(Y_i-Y_{mean})^2$$\n",
        "<br>\n",
        "in pratica R^2 è una versione standardizzata del MSE che torna un punteggio compreso tra 0 e 1 per il train set, mentre per il test set può assumere anche valori negativi.\n",
        "**NOTA BENE** R^2 non è una funzione di costo, ma di punteggio, un valore di 1 vuol dire che la predizione del modello è sempre corretta ( cosa improbabile in casi reali ). Quindi tanto più vicino ad 1 è l'R2 tanto migliore è il modello.\n",
        "    \n",
        "* **R2_score < 0.3** il modello è inutile.\n",
        "* **0.3 < R2_score < 0.5** il modello è scarso.     \n",
        "* **0.5 < R2_score < 0.7** il modello è discreto.\n",
        "* **0.7 < R2_score < 0.9** il modello è buono.\n",
        "* **0.9 < R2_score < 1** il modello è ottimo.\n",
        "* **R2_score = 1** molto probabilmente c'è un errore nel modello."
      ]
    },
    {
      "metadata": {
        "id": "AJknNtYNF95c",
        "colab_type": "code",
        "colab": {},
        "outputId": "580ee284-ce02-434c-b274-e52f3b5a26ad"
      },
      "cell_type": "code",
      "source": [
        "from sklearn.metrics import r2_score\n",
        "\n",
        "r2_score(Y_test, Y_pred)"
      ],
      "execution_count": 0,
      "outputs": [
        {
          "output_type": "execute_result",
          "data": {
            "text/plain": [
              "0.4930402624286039"
            ]
          },
          "metadata": {
            "tags": []
          },
          "execution_count": 8
        }
      ]
    },
    {
      "metadata": {
        "id": "Ks4JfFY3F95f",
        "colab_type": "text"
      },
      "cell_type": "markdown",
      "source": [
        "Il punteggio non è così male per un modello così semplice, proviamo a visualizzare i coefficenti (bias e peso) che il nostro modello ha imparato disegnando la retta da questi rappresentata in un grafico in 2 dimensioni."
      ]
    },
    {
      "metadata": {
        "id": "hpSKKeSAF95g",
        "colab_type": "code",
        "colab": {},
        "outputId": "81a9be1b-4111-430f-ee8a-144e4594d582"
      },
      "cell_type": "code",
      "source": [
        "import matplotlib.pyplot as plt\n",
        "%matplotlib inline\n",
        "\n",
        "print(\"Peso di RM: \"+ str(ll.coef_[0]))\n",
        "print(\"Bias: \"+str(ll.intercept_))\n",
        "\n",
        "\n",
        "plt.scatter(X_train, Y_train, c=\"green\",  edgecolor='white', label=\"Train set\")\n",
        "plt.scatter(X_test, Y_test, c=\"blue\",  edgecolor='white', label=\"Test set\")\n",
        "\n",
        "plt.xlabel('Numero medio di stanze [RM]')\n",
        "plt.ylabel('Valore in $1000 [MEDV]')\n",
        "\n",
        "plt.legend(loc='upper left')\n",
        "\n",
        "plt.plot(X_test, Y_pred, color='red', linewidth=3)"
      ],
      "execution_count": 0,
      "outputs": [
        {
          "output_type": "stream",
          "text": [
            "Peso di RM: 8.81802066183087\n",
            "Bias: -32.66488394496372\n"
          ],
          "name": "stdout"
        },
        {
          "output_type": "execute_result",
          "data": {
            "text/plain": [
              "[<matplotlib.lines.Line2D at 0x1a2037ec50>]"
            ]
          },
          "metadata": {
            "tags": []
          },
          "execution_count": 11
        },
        {
          "output_type": "display_data",
          "data": {
            "image/png": "[encoded data removed]",
            "text/plain": [
              "<Figure size 432x288 with 1 Axes>"
            ]
          },
          "metadata": {
            "tags": []
          }
        }
      ]
    },
    {
      "metadata": {
        "id": "545vc32YF95j",
        "colab_type": "text"
      },
      "cell_type": "markdown",
      "source": [
        "La retta approssima i dati abbastanza bene, l'errore alto è dato in gran parte dagli outliers, ovvero dai valori che si distaccano di molto dagli altri.<br>\n",
        "Per ottenere un modello più preciso, e quindi ridurre l'errore, dobbiamo aggiungere ulteriori features significative."
      ]
    }
  ]
}